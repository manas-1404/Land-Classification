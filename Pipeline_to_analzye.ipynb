{
 "cells": [
  {
   "cell_type": "code",
   "execution_count": 28,
   "metadata": {},
   "outputs": [],
   "source": [
    "import numpy as np\n",
    "import pandas as pd\n",
    "import tensorflow as tf\n",
    "import matplotlib.pyplot as plt\n",
    "import glob\n",
    "import os\n",
    "from PIL import Image"
   ]
  },
  {
   "cell_type": "code",
   "execution_count": 29,
   "metadata": {},
   "outputs": [],
   "source": [
    "def load_model(model_path):\n",
    "    \"\"\"Load a pre-trained TensorFlow model.\"\"\"\n",
    "    return tf.keras.models.load_model(model_path)\n",
    "\n",
    "def load_npz_data(file_path):\n",
    "    \"\"\"Load ground truth raster from NPZ file.\"\"\"\n",
    "    with np.load(file_path, allow_pickle=True) as data:\n",
    "        raster_data = data['arr_1']\n",
    "        # print(data['arr_0'])\n",
    "        # print(\"-\"*45)\n",
    "        # print(data[\"arr_1\"])\n",
    "    \n",
    "    # print(raster_data)\n",
    "    return raster_data\n",
    "\n",
    "def inspect_npz_file(file_path):\n",
    "    with np.load(file_path) as data:\n",
    "        print(data.files)\n",
    "\n",
    "# inspect_npz_file(r\"C:\\Users\\lyq09mow\\Data\\Berlin\\berlin-de\\ground_truth_class_raster_25km.npz\")\n",
    "# load_npz_data(r\"C:\\Users\\lyq09mow\\Data\\Berlin\\berlin-de\\ground_truth_class_raster_25km.npz\")\n"
   ]
  },
  {
   "cell_type": "code",
   "execution_count": 30,
   "metadata": {},
   "outputs": [],
   "source": [
    "def load_image(file_path):\n",
    "    \"\"\"Load an image file and convert it to a numpy array.\"\"\"\n",
    "    with Image.open(file_path) as img:\n",
    "        return np.array(img)"
   ]
  },
  {
   "cell_type": "code",
   "execution_count": 31,
   "metadata": {},
   "outputs": [],
   "source": [
    "def preprocess_image(image_array):\n",
    "    \"\"\"Preprocess image data for model prediction. Adjust based on model requirements.\"\"\"\n",
    "    return image_array.astype(np.float32) / 255.0\n",
    "\n",
    "\n",
    "def predict_raster(model, raster_data):\n",
    "    \"\"\"Predict classes for each pixel in raster using the TensorFlow model.\"\"\"\n",
    "    raster_data = np.expand_dims(raster_data, axis=0)  # Add a batch dimension if needed\n",
    "    predictions = model.predict(raster_data)\n",
    "    return np.argmax(predictions, axis=-1).squeeze()  # Remove the batch dimension"
   ]
  },
  {
   "cell_type": "code",
   "execution_count": 32,
   "metadata": {},
   "outputs": [],
   "source": [
    "def plot_rasters(raster1, raster2, title1='Ground Truth', title2='Prediction'):\n",
    "    fig, axes = plt.subplots(1, 2, figsize=(12, 6))\n",
    "    for ax, raster, title in zip(axes, [raster1, raster2], [title1, title2]):\n",
    "        ax.imshow(raster, cmap='viridis')\n",
    "        ax.set_title(title)\n",
    "    plt.show()"
   ]
  },
  {
   "cell_type": "code",
   "execution_count": 33,
   "metadata": {},
   "outputs": [],
   "source": [
    "def get_grid_sources(base_path, phase='testing'):\n",
    "    # Collect all image file paths\n",
    "    file_pattern = os.path.join(base_path, phase, '*', '*.jpg')\n",
    "    files = glob.glob(file_pattern, recursive=True)\n",
    "    \n",
    "    # Create a DataFrame from the file paths\n",
    "    files_df = pd.DataFrame(files, columns=['filename'])\n",
    "    \n",
    "    # Extract class, city, and phase information\n",
    "    files_df['class'] = files_df['filename'].apply(lambda x: x.split(os.sep)[-2])\n",
    "    files_df['city'] = files_df['filename'].apply(lambda x: x.split(os.sep)[-1].split('_')[0])\n",
    "    \n",
    "    return files_df\n",
    "\n",
    "# Example usage\n",
    "# base_path = r'C:\\Users\\lyq09mow\\ModelImages\\Bar_Ber_Mad_Rom'\n",
    "# classes = ['Airports', 'Fast transit roads and associated land', \n",
    "#            'Forests', 'Green Urban Areas', \n",
    "#            'Industrial, commercial, public, military and private units', \n",
    "#            'Land without current use', \n",
    "#            'Railways and associated land', \n",
    "#            'Sports and leisure facilities',\n",
    "#            'Urban Fabric', 'Water']  \n",
    "\n",
    "# grid_sources_df = get_grid_sources(base_path, phase='testing')\n",
    "# print(grid_sources_df.head())\n"
   ]
  },
  {
   "cell_type": "code",
   "execution_count": 38,
   "metadata": {},
   "outputs": [
    {
     "name": "stdout",
     "output_type": "stream",
     "text": [
      "Ground truth data shape: (100, 100, 19)\n"
     ]
    }
   ],
   "source": [
    "import numpy as np\n",
    "\n",
    "# Load the ground truth data\n",
    "def load_npz_data(file_path, key='arr_0'):\n",
    "    \"\"\"Load ground truth raster from NPZ file using the specified key.\"\"\"\n",
    "    with np.load(file_path, allow_pickle=True) as data:\n",
    "        raster_data = data[key]\n",
    "    return raster_data\n",
    "\n",
    "# Path to your ground truth NPZ file\n",
    "ground_truth_path = r'C:\\Users\\lyq09mow\\Data\\Berlin\\berlin-de\\ground_truth_class_raster_25km.npz'\n",
    "\n",
    "# Load the ground truth data\n",
    "ground_truth_data = load_npz_data(ground_truth_path)\n",
    "\n",
    "# Check the dimensions of the ground truth data\n",
    "print(\"Ground truth data shape:\", ground_truth_data.shape)\n"
   ]
  },
  {
   "cell_type": "code",
   "execution_count": null,
   "metadata": {},
   "outputs": [],
   "source": [
    "# File paths and model path\n",
    "model_path = r'C:\\Users\\lyq09mow\\Model\\Bar_Ber_Mad_Rom\\85cent9.keras'\n",
    "ground_truth_path = r'C:\\Users\\lyq09mow\\Data\\Berlin\\berlin-de\\ground_truth_class_raster_25km.npz'\n",
    "base_path = r'C:\\Users\\lyq09mow\\ModelImages\\Bar_Ber_Mad_Rom'\n",
    "    \n",
    "# Load the model\n",
    "model = load_model(model_path)\n",
    "\n",
    "# Load and process ground truth data\n",
    "ground_truth_data = load_npz_data(ground_truth_path)\n",
    "\n",
    "# Get grid sources for validation/testing\n",
    "grid_sources_df = get_grid_sources(base_path, phase='testing')\n",
    "    \n",
    "# Load and preprocess input data for prediction\n",
    "input_raster_path = grid_sources_df.iloc[0]['filename']  # Example with the first file; adapt as needed\n",
    "input_raster_data = preprocess_image(load_image(input_raster_path))\n",
    "    \n",
    "# Generate predictions\n",
    "predicted_classes = predict_raster(model, input_raster_data)\n",
    "\n",
    "# Visualization\n",
    "plot_rasters(ground_truth_data.argmax(axis=3), predicted_classes, title1='Ground Truth', title2='Prediction')"
   ]
  }
 ],
 "metadata": {
  "kernelspec": {
   "display_name": "test",
   "language": "python",
   "name": "python3"
  },
  "language_info": {
   "codemirror_mode": {
    "name": "ipython",
    "version": 3
   },
   "file_extension": ".py",
   "mimetype": "text/x-python",
   "name": "python",
   "nbconvert_exporter": "python",
   "pygments_lexer": "ipython3",
   "version": "3.9.19"
  }
 },
 "nbformat": 4,
 "nbformat_minor": 2
}
