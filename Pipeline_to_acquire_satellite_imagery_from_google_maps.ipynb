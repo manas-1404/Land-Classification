{
  "nbformat": 4,
  "nbformat_minor": 0,
  "metadata": {
    "colab": {
      "provenance": [],
      "authorship_tag": "ABX9TyN+YvgVF67z2TIDTvHWTyhp"
    },
    "kernelspec": {
      "name": "python3",
      "display_name": "Python 3"
    },
    "language_info": {
      "name": "python"
    }
  },
  "cells": [
    {
      "cell_type": "code",
      "source": [
        "!pip install pysatml"
      ],
      "metadata": {
        "colab": {
          "base_uri": "https://localhost:8080/"
        },
        "id": "QMvMwijLRWo5",
        "outputId": "61a9e2f9-f225-4629-dd87-396fbcc7f146"
      },
      "execution_count": 3,
      "outputs": [
        {
          "output_type": "stream",
          "name": "stdout",
          "text": [
            "Collecting pysatml\n",
            "  Downloading pysatml-0.1.2.tar.gz (6.0 kB)\n",
            "  Preparing metadata (setup.py) ... \u001b[?25l\u001b[?25hdone\n",
            "Building wheels for collected packages: pysatml\n",
            "  Building wheel for pysatml (setup.py) ... \u001b[?25l\u001b[?25hdone\n",
            "  Created wheel for pysatml: filename=pysatml-0.1.2-py3-none-any.whl size=6552 sha256=572744202a5f0530628b38a6f1b9d803a116faa72ce4ca776353332863dc26a8\n",
            "  Stored in directory: /root/.cache/pip/wheels/06/5d/37/57c977ec17ac368135ae43ca725e2186ddd5234ccc6c244933\n",
            "Successfully built pysatml\n",
            "Installing collected packages: pysatml\n",
            "Successfully installed pysatml-0.1.2\n"
          ]
        }
      ]
    },
    {
      "cell_type": "code",
      "source": [
        "!pip install ipyparallel"
      ],
      "metadata": {
        "colab": {
          "base_uri": "https://localhost:8080/"
        },
        "id": "7zhuhQgoRrA4",
        "outputId": "4586b84a-6049-4a00-8009-330c5f5152b7"
      },
      "execution_count": 6,
      "outputs": [
        {
          "output_type": "stream",
          "name": "stdout",
          "text": [
            "Collecting ipyparallel\n",
            "  Downloading ipyparallel-8.8.0-py3-none-any.whl (293 kB)\n",
            "\u001b[?25l     \u001b[90m━━━━━━━━━━━━━━━━━━━━━━━━━━━━━━━━━━━━━━━━\u001b[0m \u001b[32m0.0/293.1 kB\u001b[0m \u001b[31m?\u001b[0m eta \u001b[36m-:--:--\u001b[0m\r\u001b[2K     \u001b[91m━━━━━━\u001b[0m\u001b[91m╸\u001b[0m\u001b[90m━━━━━━━━━━━━━━━━━━━━━━━━━━━━━━━━━\u001b[0m \u001b[32m51.2/293.1 kB\u001b[0m \u001b[31m1.3 MB/s\u001b[0m eta \u001b[36m0:00:01\u001b[0m\r\u001b[2K     \u001b[91m━━━━━━━━━━━━━━━━━━━\u001b[0m\u001b[91m╸\u001b[0m\u001b[90m━━━━━━━━━━━━━━━━━━━━\u001b[0m \u001b[32m143.4/293.1 kB\u001b[0m \u001b[31m2.2 MB/s\u001b[0m eta \u001b[36m0:00:01\u001b[0m\r\u001b[2K     \u001b[90m━━━━━━━━━━━━━━━━━━━━━━━━━━━━━━━━━━━━━━━━\u001b[0m \u001b[32m293.1/293.1 kB\u001b[0m \u001b[31m3.2 MB/s\u001b[0m eta \u001b[36m0:00:00\u001b[0m\n",
            "\u001b[?25hRequirement already satisfied: decorator in /usr/local/lib/python3.10/dist-packages (from ipyparallel) (4.4.2)\n",
            "Requirement already satisfied: entrypoints in /usr/local/lib/python3.10/dist-packages (from ipyparallel) (0.4)\n",
            "Requirement already satisfied: ipykernel>=4.4 in /usr/local/lib/python3.10/dist-packages (from ipyparallel) (5.5.6)\n",
            "Requirement already satisfied: ipython>=4 in /usr/local/lib/python3.10/dist-packages (from ipyparallel) (7.34.0)\n",
            "Requirement already satisfied: jupyter-client>=5 in /usr/local/lib/python3.10/dist-packages (from ipyparallel) (6.1.12)\n",
            "Requirement already satisfied: psutil in /usr/local/lib/python3.10/dist-packages (from ipyparallel) (5.9.5)\n",
            "Requirement already satisfied: python-dateutil>=2.1 in /usr/local/lib/python3.10/dist-packages (from ipyparallel) (2.8.2)\n",
            "Requirement already satisfied: pyzmq>=18 in /usr/local/lib/python3.10/dist-packages (from ipyparallel) (24.0.1)\n",
            "Requirement already satisfied: tornado>=5.1 in /usr/local/lib/python3.10/dist-packages (from ipyparallel) (6.3.3)\n",
            "Requirement already satisfied: tqdm in /usr/local/lib/python3.10/dist-packages (from ipyparallel) (4.66.4)\n",
            "Requirement already satisfied: traitlets>=4.3 in /usr/local/lib/python3.10/dist-packages (from ipyparallel) (5.7.1)\n",
            "Requirement already satisfied: ipython-genutils in /usr/local/lib/python3.10/dist-packages (from ipykernel>=4.4->ipyparallel) (0.2.0)\n",
            "Requirement already satisfied: setuptools>=18.5 in /usr/local/lib/python3.10/dist-packages (from ipython>=4->ipyparallel) (67.7.2)\n",
            "Collecting jedi>=0.16 (from ipython>=4->ipyparallel)\n",
            "  Downloading jedi-0.19.1-py2.py3-none-any.whl (1.6 MB)\n",
            "\u001b[2K     \u001b[90m━━━━━━━━━━━━━━━━━━━━━━━━━━━━━━━━━━━━━━━━\u001b[0m \u001b[32m1.6/1.6 MB\u001b[0m \u001b[31m23.1 MB/s\u001b[0m eta \u001b[36m0:00:00\u001b[0m\n",
            "\u001b[?25hRequirement already satisfied: pickleshare in /usr/local/lib/python3.10/dist-packages (from ipython>=4->ipyparallel) (0.7.5)\n",
            "Requirement already satisfied: prompt-toolkit!=3.0.0,!=3.0.1,<3.1.0,>=2.0.0 in /usr/local/lib/python3.10/dist-packages (from ipython>=4->ipyparallel) (3.0.43)\n",
            "Requirement already satisfied: pygments in /usr/local/lib/python3.10/dist-packages (from ipython>=4->ipyparallel) (2.16.1)\n",
            "Requirement already satisfied: backcall in /usr/local/lib/python3.10/dist-packages (from ipython>=4->ipyparallel) (0.2.0)\n",
            "Requirement already satisfied: matplotlib-inline in /usr/local/lib/python3.10/dist-packages (from ipython>=4->ipyparallel) (0.1.7)\n",
            "Requirement already satisfied: pexpect>4.3 in /usr/local/lib/python3.10/dist-packages (from ipython>=4->ipyparallel) (4.9.0)\n",
            "Requirement already satisfied: jupyter-core>=4.6.0 in /usr/local/lib/python3.10/dist-packages (from jupyter-client>=5->ipyparallel) (5.7.2)\n",
            "Requirement already satisfied: six>=1.5 in /usr/local/lib/python3.10/dist-packages (from python-dateutil>=2.1->ipyparallel) (1.16.0)\n",
            "Requirement already satisfied: parso<0.9.0,>=0.8.3 in /usr/local/lib/python3.10/dist-packages (from jedi>=0.16->ipython>=4->ipyparallel) (0.8.4)\n",
            "Requirement already satisfied: platformdirs>=2.5 in /usr/local/lib/python3.10/dist-packages (from jupyter-core>=4.6.0->jupyter-client>=5->ipyparallel) (4.2.2)\n",
            "Requirement already satisfied: ptyprocess>=0.5 in /usr/local/lib/python3.10/dist-packages (from pexpect>4.3->ipython>=4->ipyparallel) (0.7.0)\n",
            "Requirement already satisfied: wcwidth in /usr/local/lib/python3.10/dist-packages (from prompt-toolkit!=3.0.0,!=3.0.1,<3.1.0,>=2.0.0->ipython>=4->ipyparallel) (0.2.13)\n",
            "Installing collected packages: jedi, ipyparallel\n",
            "Successfully installed ipyparallel-8.8.0 jedi-0.19.1\n"
          ]
        }
      ]
    },
    {
      "cell_type": "code",
      "execution_count": 16,
      "metadata": {
        "id": "aQy72TZGRIHQ"
      },
      "outputs": [],
      "source": [
        "# numeric packages\n",
        "import numpy as np\n",
        "import pandas as pd\n",
        "\n",
        "# filesystem and OS\n",
        "import sys, os, time\n",
        "import glob\n",
        "\n",
        "# plotting\n",
        "from matplotlib import pyplot as plt\n",
        "import matplotlib\n",
        "%matplotlib inline\n",
        "\n",
        "import seaborn as sns\n",
        "sns.set_style(\"whitegrid\", {'axes.grid' : False})\n",
        "\n",
        "# compression\n",
        "import gzip\n",
        "import pickle\n",
        "import copy\n",
        "\n",
        "# widgets and interaction\n",
        "from IPython.display import display, clear_output\n",
        "\n",
        "import warnings\n",
        "warnings.filterwarnings('ignore')\n"
      ]
    },
    {
      "cell_type": "code",
      "source": [
        "!pip install satapi"
      ],
      "metadata": {
        "colab": {
          "base_uri": "https://localhost:8080/"
        },
        "id": "L9nuZobfXwhU",
        "outputId": "8876f137-f78a-49c1-dccc-89d4be797645"
      },
      "execution_count": 17,
      "outputs": [
        {
          "output_type": "stream",
          "name": "stdout",
          "text": [
            "Collecting satapi\n",
            "  Downloading satapi-0.2.0.tar.gz (2.4 kB)\n",
            "  Preparing metadata (setup.py) ... \u001b[?25l\u001b[?25hdone\n",
            "Collecting restkit>=4.2.2 (from satapi)\n",
            "  Downloading restkit-4.2.2.tar.gz (1.3 MB)\n",
            "\u001b[2K     \u001b[90m━━━━━━━━━━━━━━━━━━━━━━━━━━━━━━━━━━━━━━━━\u001b[0m \u001b[32m1.3/1.3 MB\u001b[0m \u001b[31m10.4 MB/s\u001b[0m eta \u001b[36m0:00:00\u001b[0m\n",
            "\u001b[?25h  Preparing metadata (setup.py) ... \u001b[?25l\u001b[?25hdone\n",
            "Collecting config>=0.3.9 (from satapi)\n",
            "  Downloading config-0.5.1-py2.py3-none-any.whl (20 kB)\n",
            "Collecting http-parser>=0.8.3 (from restkit>=4.2.2->satapi)\n",
            "  Downloading http-parser-0.9.0.tar.gz (167 kB)\n",
            "\u001b[2K     \u001b[90m━━━━━━━━━━━━━━━━━━━━━━━━━━━━━━━━━━━━━━━━\u001b[0m \u001b[32m167.1/167.1 kB\u001b[0m \u001b[31m22.1 MB/s\u001b[0m eta \u001b[36m0:00:00\u001b[0m\n",
            "\u001b[?25h  Preparing metadata (setup.py) ... \u001b[?25l\u001b[?25hdone\n",
            "Collecting socketpool>=0.5.3 (from restkit>=4.2.2->satapi)\n",
            "  Downloading socketpool-0.5.3.tar.gz (9.8 kB)\n",
            "  Preparing metadata (setup.py) ... \u001b[?25l\u001b[?25hdone\n",
            "Building wheels for collected packages: satapi, restkit, http-parser, socketpool\n",
            "  \u001b[1;31merror\u001b[0m: \u001b[1msubprocess-exited-with-error\u001b[0m\n",
            "  \n",
            "  \u001b[31m×\u001b[0m \u001b[32mpython setup.py bdist_wheel\u001b[0m did not run successfully.\n",
            "  \u001b[31m│\u001b[0m exit code: \u001b[1;36m1\u001b[0m\n",
            "  \u001b[31m╰─>\u001b[0m See above for output.\n",
            "  \n",
            "  \u001b[1;35mnote\u001b[0m: This error originates from a subprocess, and is likely not a problem with pip.\n",
            "  Building wheel for satapi (setup.py) ... \u001b[?25lerror\n",
            "\u001b[31m  ERROR: Failed building wheel for satapi\u001b[0m\u001b[31m\n",
            "\u001b[0m\u001b[?25h  Running setup.py clean for satapi\n",
            "  Building wheel for restkit (setup.py) ... \u001b[?25l\u001b[?25hdone\n",
            "  Created wheel for restkit: filename=restkit-4.2.2-py3-none-any.whl size=49483 sha256=509bee774db3351cd1587442d213a1a88ed2be9d41ba06a24d91a022cf072b94\n",
            "  Stored in directory: /root/.cache/pip/wheels/3f/0a/32/591340d2197b977f391bd8623069e6840e4c0e4f038b3775f6\n",
            "  Building wheel for http-parser (setup.py) ... \u001b[?25l\u001b[?25hdone\n",
            "  Created wheel for http-parser: filename=http_parser-0.9.0-cp310-cp310-linux_x86_64.whl size=267056 sha256=25a9a2429f2b7bfcb8ad1993b4b28a2b1a0db478ea46a07c6ed414400139c470\n",
            "  Stored in directory: /root/.cache/pip/wheels/97/e6/fe/5b04c426773b18a2e8741881b02a1c481df0f9e42e927c434d\n",
            "  Building wheel for socketpool (setup.py) ... \u001b[?25l\u001b[?25hdone\n",
            "  Created wheel for socketpool: filename=socketpool-0.5.3-py3-none-any.whl size=14792 sha256=0eb4e234c108b00cb65f2a29a61205854473a55c66343d954dd33006bd263a0a\n",
            "  Stored in directory: /root/.cache/pip/wheels/9a/70/db/03a7db1647a94a7ec6833ba43881539b3efa589d292be1e43d\n",
            "Successfully built restkit http-parser socketpool\n",
            "Failed to build satapi\n",
            "\u001b[31mERROR: Could not build wheels for satapi, which is required to install pyproject.toml-based projects\u001b[0m\u001b[31m\n",
            "\u001b[0m"
          ]
        }
      ]
    },
    {
      "cell_type": "code",
      "source": [
        "# numeric packages\n",
        "import numpy as np\n",
        "import pandas as pd\n",
        "\n",
        "# filesystem and OS\n",
        "import sys, os, time\n",
        "import glob\n",
        "\n",
        "# plotting\n",
        "from matplotlib import pyplot as plt\n",
        "import matplotlib\n",
        "%matplotlib inline\n",
        "from IPython.display import display, clear_output\n",
        "\n",
        "import seaborn as sns\n",
        "sns.set_style(\"whitegrid\", {'axes.grid' : False})\n",
        "\n",
        "# these magics ensure that external modules that are modified are also automatically reloaded\n",
        "# %reload_ext autoreload\n",
        "# %autoreload 2"
      ],
      "metadata": {
        "id": "-deahGbAYAdX"
      },
      "execution_count": 18,
      "outputs": []
    },
    {
      "cell_type": "code",
      "source": [
        "outPath = \"/home/data/urban-atlas/extracted-data\"\n",
        "\n",
        "if not os.path.exists(outPath):\n",
        "    os.makedirs(outPath)"
      ],
      "metadata": {
        "id": "eQ_KHIC4YDr7"
      },
      "execution_count": 19,
      "outputs": []
    },
    {
      "cell_type": "code",
      "source": [
        "locations_path = \"/home/data/urban-atlas/extracted-data/\"\n",
        "\n",
        "grid_location_files = glob.glob(\"%s/*/sample_locations_raster_25km.csv\"%locations_path)\n",
        "grid_location_files = {f.split(\"/\")[-2]:f for f in grid_location_files}\n",
        "\n",
        "more_location_files = glob.glob(\"%s/*/additional_sample_locations.csv\"%locations_path)\n",
        "more_location_files = {f.split(\"/\")[-2]:f for f in more_location_files}"
      ],
      "metadata": {
        "id": "ZqKTBnbRYQva"
      },
      "execution_count": 20,
      "outputs": []
    },
    {
      "cell_type": "code",
      "source": [
        "def load_locations(path=\"./\"):\n",
        "    '''\n",
        "    This function loads csv files for which each line contains information on the\n",
        "    location of an image to be acquired from Google Maps.\n",
        "    '''\n",
        "\n",
        "\n",
        "    # Load the CSV files\n",
        "    grid_locations_df = pd.read_csv(path + \"/sample_locations_raster_25km.csv\")\n",
        "    more_locations_df = pd.read_csv(path + \"/additional_sample_locations25km.csv\")\n",
        "\n",
        "    # Add 'ITEM' column if it does not exist\n",
        "    if 'ITEM' not in more_locations_df.columns:\n",
        "        more_locations_df['ITEM'] = 'default_value'  # Use a default value or some logic to assign values\n",
        "\n",
        "    # Now rename 'ITEM' to 'class'\n",
        "    more_locations_df = more_locations_df.rename(columns={\"ITEM\": \"class\"})\n",
        "\n",
        "    # Print the counts of samples in each dataframe\n",
        "    print(f\"Grid samples: {len(grid_locations_df)}. Additional samples: {len(more_locations_df)}\")\n",
        "\n",
        "    # Initialize missing columns in more_locations_df\n",
        "    more_locations_df['grid-i'] = np.nan\n",
        "    more_locations_df['grid-j'] = np.nan\n",
        "\n",
        "    # Define the columns to be used\n",
        "    columns = [\"lon\", \"lat\", \"grid-i\", \"grid-j\", \"class\"]\n",
        "\n",
        "    # Concatenate both dataframes based on specified columns\n",
        "    locations = pd.concat([grid_locations_df[columns], more_locations_df[columns]])\n",
        "\n",
        "    # Reset the index and drop the old index column\n",
        "    locations = locations.reset_index(drop=True)\n",
        "\n",
        "    return locations"
      ],
      "metadata": {
        "id": "2etwbrVnYYX4"
      },
      "execution_count": 45,
      "outputs": []
    },
    {
      "cell_type": "code",
      "source": [
        "city = \"madrid, es\"\n",
        "\n",
        "workdir = \"%s/%s\" % (outPath, city)\n",
        "os.chdir(workdir)\n",
        "\n",
        "locations = load_locations()\n",
        "print(len(locations))\n",
        "\n",
        "locations.groupby(\"class\").apply(len)"
      ],
      "metadata": {
        "colab": {
          "base_uri": "https://localhost:8080/"
        },
        "id": "XPSPflgce5u2",
        "outputId": "40b8f321-dc89-456d-8a6d-b743618fa502"
      },
      "execution_count": 46,
      "outputs": [
        {
          "output_type": "stream",
          "name": "stdout",
          "text": [
            "Grid samples: 7840. Additional samples: 26948\n",
            "34788\n"
          ]
        },
        {
          "output_type": "execute_result",
          "data": {
            "text/plain": [
              "class\n",
              "Agricultural + Semi-natural areas + Wetlands                     4247\n",
              "Construction sites                                                 62\n",
              "Continuous Urban Fabric (S.L. > 80%)                              152\n",
              "Discontinuous Dense Urban Fabric (S.L. : 50% -  80%)              129\n",
              "Discontinuous Low Density Urban Fabric (S.L. : 10% - 30%)         153\n",
              "Discontinuous Medium Density Urban Fabric (S.L. : 30% - 50%)      205\n",
              "Discontinuous Very Low Density Urban Fabric (S.L. < 10%)           29\n",
              "Fast transit roads and associated land                             30\n",
              "Forests                                                           114\n",
              "Green urban areas                                                 353\n",
              "Industrial, commercial, public, military and private units        167\n",
              "Mineral extraction and dump sites                                   4\n",
              "Other roads and associated land                                  2074\n",
              "Railways and associated land                                       18\n",
              "Sports and leisure facilities                                      85\n",
              "Water bodies                                                       18\n",
              "default_value                                                   26948\n",
              "dtype: int64"
            ]
          },
          "metadata": {},
          "execution_count": 46
        }
      ]
    }
  ]
}