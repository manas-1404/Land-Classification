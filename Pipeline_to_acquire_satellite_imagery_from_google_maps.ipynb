{
  "nbformat": 4,
  "nbformat_minor": 0,
  "metadata": {
    "colab": {
      "provenance": [],
      "authorship_tag": "ABX9TyNORiRvzhCB6+Z3fRHiOTIQ"
    },
    "kernelspec": {
      "name": "python3",
      "display_name": "Python 3"
    },
    "language_info": {
      "name": "python"
    }
  },
  "cells": [
    {
      "cell_type": "code",
      "source": [
        "!pip install pysatml"
      ],
      "metadata": {
        "colab": {
          "base_uri": "https://localhost:8080/"
        },
        "id": "QMvMwijLRWo5",
        "outputId": "61a9e2f9-f225-4629-dd87-396fbcc7f146"
      },
      "execution_count": null,
      "outputs": [
        {
          "output_type": "stream",
          "name": "stdout",
          "text": [
            "Collecting pysatml\n",
            "  Downloading pysatml-0.1.2.tar.gz (6.0 kB)\n",
            "  Preparing metadata (setup.py) ... \u001b[?25l\u001b[?25hdone\n",
            "Building wheels for collected packages: pysatml\n",
            "  Building wheel for pysatml (setup.py) ... \u001b[?25l\u001b[?25hdone\n",
            "  Created wheel for pysatml: filename=pysatml-0.1.2-py3-none-any.whl size=6552 sha256=572744202a5f0530628b38a6f1b9d803a116faa72ce4ca776353332863dc26a8\n",
            "  Stored in directory: /root/.cache/pip/wheels/06/5d/37/57c977ec17ac368135ae43ca725e2186ddd5234ccc6c244933\n",
            "Successfully built pysatml\n",
            "Installing collected packages: pysatml\n",
            "Successfully installed pysatml-0.1.2\n"
          ]
        }
      ]
    },
    {
      "cell_type": "code",
      "source": [
        "!pip install ipyparallel"
      ],
      "metadata": {
        "colab": {
          "base_uri": "https://localhost:8080/"
        },
        "id": "7zhuhQgoRrA4",
        "outputId": "4586b84a-6049-4a00-8009-330c5f5152b7"
      },
      "execution_count": null,
      "outputs": [
        {
          "output_type": "stream",
          "name": "stdout",
          "text": [
            "Collecting ipyparallel\n",
            "  Downloading ipyparallel-8.8.0-py3-none-any.whl (293 kB)\n",
            "\u001b[?25l     \u001b[90m━━━━━━━━━━━━━━━━━━━━━━━━━━━━━━━━━━━━━━━━\u001b[0m \u001b[32m0.0/293.1 kB\u001b[0m \u001b[31m?\u001b[0m eta \u001b[36m-:--:--\u001b[0m\r\u001b[2K     \u001b[91m━━━━━━\u001b[0m\u001b[91m╸\u001b[0m\u001b[90m━━━━━━━━━━━━━━━━━━━━━━━━━━━━━━━━━\u001b[0m \u001b[32m51.2/293.1 kB\u001b[0m \u001b[31m1.3 MB/s\u001b[0m eta \u001b[36m0:00:01\u001b[0m\r\u001b[2K     \u001b[91m━━━━━━━━━━━━━━━━━━━\u001b[0m\u001b[91m╸\u001b[0m\u001b[90m━━━━━━━━━━━━━━━━━━━━\u001b[0m \u001b[32m143.4/293.1 kB\u001b[0m \u001b[31m2.2 MB/s\u001b[0m eta \u001b[36m0:00:01\u001b[0m\r\u001b[2K     \u001b[90m━━━━━━━━━━━━━━━━━━━━━━━━━━━━━━━━━━━━━━━━\u001b[0m \u001b[32m293.1/293.1 kB\u001b[0m \u001b[31m3.2 MB/s\u001b[0m eta \u001b[36m0:00:00\u001b[0m\n",
            "\u001b[?25hRequirement already satisfied: decorator in /usr/local/lib/python3.10/dist-packages (from ipyparallel) (4.4.2)\n",
            "Requirement already satisfied: entrypoints in /usr/local/lib/python3.10/dist-packages (from ipyparallel) (0.4)\n",
            "Requirement already satisfied: ipykernel>=4.4 in /usr/local/lib/python3.10/dist-packages (from ipyparallel) (5.5.6)\n",
            "Requirement already satisfied: ipython>=4 in /usr/local/lib/python3.10/dist-packages (from ipyparallel) (7.34.0)\n",
            "Requirement already satisfied: jupyter-client>=5 in /usr/local/lib/python3.10/dist-packages (from ipyparallel) (6.1.12)\n",
            "Requirement already satisfied: psutil in /usr/local/lib/python3.10/dist-packages (from ipyparallel) (5.9.5)\n",
            "Requirement already satisfied: python-dateutil>=2.1 in /usr/local/lib/python3.10/dist-packages (from ipyparallel) (2.8.2)\n",
            "Requirement already satisfied: pyzmq>=18 in /usr/local/lib/python3.10/dist-packages (from ipyparallel) (24.0.1)\n",
            "Requirement already satisfied: tornado>=5.1 in /usr/local/lib/python3.10/dist-packages (from ipyparallel) (6.3.3)\n",
            "Requirement already satisfied: tqdm in /usr/local/lib/python3.10/dist-packages (from ipyparallel) (4.66.4)\n",
            "Requirement already satisfied: traitlets>=4.3 in /usr/local/lib/python3.10/dist-packages (from ipyparallel) (5.7.1)\n",
            "Requirement already satisfied: ipython-genutils in /usr/local/lib/python3.10/dist-packages (from ipykernel>=4.4->ipyparallel) (0.2.0)\n",
            "Requirement already satisfied: setuptools>=18.5 in /usr/local/lib/python3.10/dist-packages (from ipython>=4->ipyparallel) (67.7.2)\n",
            "Collecting jedi>=0.16 (from ipython>=4->ipyparallel)\n",
            "  Downloading jedi-0.19.1-py2.py3-none-any.whl (1.6 MB)\n",
            "\u001b[2K     \u001b[90m━━━━━━━━━━━━━━━━━━━━━━━━━━━━━━━━━━━━━━━━\u001b[0m \u001b[32m1.6/1.6 MB\u001b[0m \u001b[31m23.1 MB/s\u001b[0m eta \u001b[36m0:00:00\u001b[0m\n",
            "\u001b[?25hRequirement already satisfied: pickleshare in /usr/local/lib/python3.10/dist-packages (from ipython>=4->ipyparallel) (0.7.5)\n",
            "Requirement already satisfied: prompt-toolkit!=3.0.0,!=3.0.1,<3.1.0,>=2.0.0 in /usr/local/lib/python3.10/dist-packages (from ipython>=4->ipyparallel) (3.0.43)\n",
            "Requirement already satisfied: pygments in /usr/local/lib/python3.10/dist-packages (from ipython>=4->ipyparallel) (2.16.1)\n",
            "Requirement already satisfied: backcall in /usr/local/lib/python3.10/dist-packages (from ipython>=4->ipyparallel) (0.2.0)\n",
            "Requirement already satisfied: matplotlib-inline in /usr/local/lib/python3.10/dist-packages (from ipython>=4->ipyparallel) (0.1.7)\n",
            "Requirement already satisfied: pexpect>4.3 in /usr/local/lib/python3.10/dist-packages (from ipython>=4->ipyparallel) (4.9.0)\n",
            "Requirement already satisfied: jupyter-core>=4.6.0 in /usr/local/lib/python3.10/dist-packages (from jupyter-client>=5->ipyparallel) (5.7.2)\n",
            "Requirement already satisfied: six>=1.5 in /usr/local/lib/python3.10/dist-packages (from python-dateutil>=2.1->ipyparallel) (1.16.0)\n",
            "Requirement already satisfied: parso<0.9.0,>=0.8.3 in /usr/local/lib/python3.10/dist-packages (from jedi>=0.16->ipython>=4->ipyparallel) (0.8.4)\n",
            "Requirement already satisfied: platformdirs>=2.5 in /usr/local/lib/python3.10/dist-packages (from jupyter-core>=4.6.0->jupyter-client>=5->ipyparallel) (4.2.2)\n",
            "Requirement already satisfied: ptyprocess>=0.5 in /usr/local/lib/python3.10/dist-packages (from pexpect>4.3->ipython>=4->ipyparallel) (0.7.0)\n",
            "Requirement already satisfied: wcwidth in /usr/local/lib/python3.10/dist-packages (from prompt-toolkit!=3.0.0,!=3.0.1,<3.1.0,>=2.0.0->ipython>=4->ipyparallel) (0.2.13)\n",
            "Installing collected packages: jedi, ipyparallel\n",
            "Successfully installed ipyparallel-8.8.0 jedi-0.19.1\n"
          ]
        }
      ]
    },
    {
      "cell_type": "code",
      "execution_count": 45,
      "metadata": {
        "id": "aQy72TZGRIHQ"
      },
      "outputs": [],
      "source": [
        "# numeric packages\n",
        "import numpy as np\n",
        "import pandas as pd\n",
        "\n",
        "# filesystem and OS\n",
        "import sys, os, time\n",
        "import glob\n",
        "\n",
        "# plotting\n",
        "from matplotlib import pyplot as plt\n",
        "import matplotlib\n",
        "%matplotlib inline\n",
        "\n",
        "import seaborn as sns\n",
        "sns.set_style(\"whitegrid\", {'axes.grid' : False})\n",
        "\n",
        "# compression\n",
        "import gzip\n",
        "import pickle\n",
        "import copy\n",
        "\n",
        "# widgets and interaction\n",
        "from IPython.display import display, clear_output\n",
        "\n",
        "import warnings\n",
        "warnings.filterwarnings('ignore')\n"
      ]
    },
    {
      "cell_type": "code",
      "source": [
        "# numeric packages\n",
        "import numpy as np\n",
        "import pandas as pd\n",
        "\n",
        "# filesystem and OS\n",
        "import sys, os, time\n",
        "import glob\n",
        "\n",
        "# plotting\n",
        "from matplotlib import pyplot as plt\n",
        "import matplotlib\n",
        "%matplotlib inline\n",
        "from IPython.display import display, clear_output\n",
        "\n",
        "import seaborn as sns\n",
        "sns.set_style(\"whitegrid\", {'axes.grid' : False})\n",
        "\n",
        "# these magics ensure that external modules that are modified are also automatically reloaded\n",
        "# %reload_ext autoreload\n",
        "# %autoreload 2"
      ],
      "metadata": {
        "id": "-deahGbAYAdX"
      },
      "execution_count": 46,
      "outputs": []
    },
    {
      "cell_type": "code",
      "source": [
        "outPath = \"/home/data/urban-atlas/extracted-data\"\n",
        "\n",
        "if not os.path.exists(outPath):\n",
        "    os.makedirs(outPath)"
      ],
      "metadata": {
        "id": "eQ_KHIC4YDr7"
      },
      "execution_count": 47,
      "outputs": []
    },
    {
      "cell_type": "code",
      "source": [
        "locations_path = \"/home/data/urban-atlas/extracted-data/\"\n",
        "\n",
        "grid_location_files = glob.glob(\"%s/*/sample_locations_raster_25km.csv\"%locations_path)\n",
        "grid_location_files = {f.split(\"/\")[-2]:f for f in grid_location_files}\n",
        "\n",
        "more_location_files = glob.glob(\"%s/*/additional_sample_locations.csv\"%locations_path)\n",
        "more_location_files = {f.split(\"/\")[-2]:f for f in more_location_files}"
      ],
      "metadata": {
        "id": "ZqKTBnbRYQva"
      },
      "execution_count": 48,
      "outputs": []
    },
    {
      "cell_type": "code",
      "source": [
        "def load_locations(path=\"./\"):\n",
        "    '''\n",
        "    This function loads csv files for which each line contains information on the\n",
        "    location of an image to be acquired from Google Maps.\n",
        "    '''\n",
        "\n",
        "\n",
        "    # Load the CSV files\n",
        "    grid_locations_df = pd.read_csv(path + \"/sample_locations_raster_25km.csv\")\n",
        "    more_locations_df = pd.read_csv(path + \"/additional_sample_locations25km.csv\")\n",
        "\n",
        "    # Add 'ITEM' column if it does not exist\n",
        "    if 'ITEM' not in more_locations_df.columns:\n",
        "        more_locations_df['ITEM'] = 'default_value'  # Use a default value or some logic to assign values\n",
        "\n",
        "    # Now rename 'ITEM' to 'class'\n",
        "    more_locations_df = more_locations_df.rename(columns={\"ITEM\": \"class\"})\n",
        "\n",
        "    # Print the counts of samples in each dataframe\n",
        "    print(f\"Grid samples: {len(grid_locations_df)}. Additional samples: {len(more_locations_df)}\")\n",
        "\n",
        "    # Initialize missing columns in more_locations_df\n",
        "    more_locations_df['grid-i'] = np.nan\n",
        "    more_locations_df['grid-j'] = np.nan\n",
        "\n",
        "    # Define the columns to be used\n",
        "    columns = [\"lon\", \"lat\", \"grid-i\", \"grid-j\", \"class\"]\n",
        "\n",
        "    # Concatenate both dataframes based on specified columns\n",
        "    locations = pd.concat([grid_locations_df[columns], more_locations_df[columns]])\n",
        "\n",
        "    # Reset the index and drop the old index column\n",
        "    locations = locations.reset_index(drop=True)\n",
        "\n",
        "    return locations"
      ],
      "metadata": {
        "id": "2etwbrVnYYX4"
      },
      "execution_count": 43,
      "outputs": []
    },
    {
      "cell_type": "code",
      "source": [
        "city = \"madrid, es\"\n",
        "\n",
        "workdir = \"%s/%s\" % (outPath, city)\n",
        "os.chdir(workdir)\n",
        "\n",
        "locations = load_locations()\n",
        "print(len(locations))\n",
        "\n",
        "locations.groupby(\"class\").apply(len)"
      ],
      "metadata": {
        "colab": {
          "base_uri": "https://localhost:8080/"
        },
        "id": "XPSPflgce5u2",
        "outputId": "e62e0cf6-699b-4565-92bc-eb81eedbf920"
      },
      "execution_count": 49,
      "outputs": [
        {
          "output_type": "stream",
          "name": "stdout",
          "text": [
            "Grid samples: 7840. Additional samples: 26948\n",
            "34788\n"
          ]
        },
        {
          "output_type": "execute_result",
          "data": {
            "text/plain": [
              "class\n",
              "Agricultural + Semi-natural areas + Wetlands                     4247\n",
              "Construction sites                                                 62\n",
              "Continuous Urban Fabric (S.L. > 80%)                              152\n",
              "Discontinuous Dense Urban Fabric (S.L. : 50% -  80%)              129\n",
              "Discontinuous Low Density Urban Fabric (S.L. : 10% - 30%)         153\n",
              "Discontinuous Medium Density Urban Fabric (S.L. : 30% - 50%)      205\n",
              "Discontinuous Very Low Density Urban Fabric (S.L. < 10%)           29\n",
              "Fast transit roads and associated land                             30\n",
              "Forests                                                           114\n",
              "Green urban areas                                                 353\n",
              "Industrial, commercial, public, military and private units        167\n",
              "Mineral extraction and dump sites                                   4\n",
              "Other roads and associated land                                  2074\n",
              "Railways and associated land                                       18\n",
              "Sports and leisure facilities                                      85\n",
              "Water bodies                                                       18\n",
              "default_value                                                   26948\n",
              "dtype: int64"
            ]
          },
          "metadata": {},
          "execution_count": 49
        }
      ]
    },
    {
      "cell_type": "code",
      "source": [
        "!pip install --upgrade pip setuptools wheel"
      ],
      "metadata": {
        "colab": {
          "base_uri": "https://localhost:8080/",
          "height": 425
        },
        "id": "Cm11k-Tpp9_a",
        "outputId": "c853232f-3f5c-4cd7-e7f2-4acbc24654ef"
      },
      "execution_count": null,
      "outputs": [
        {
          "output_type": "stream",
          "name": "stdout",
          "text": [
            "Requirement already satisfied: pip in /usr/local/lib/python3.10/dist-packages (23.1.2)\n",
            "Collecting pip\n",
            "  Downloading pip-24.0-py3-none-any.whl (2.1 MB)\n",
            "\u001b[2K     \u001b[90m━━━━━━━━━━━━━━━━━━━━━━━━━━━━━━━━━━━━━━━━\u001b[0m \u001b[32m2.1/2.1 MB\u001b[0m \u001b[31m19.0 MB/s\u001b[0m eta \u001b[36m0:00:00\u001b[0m\n",
            "\u001b[?25hRequirement already satisfied: setuptools in /usr/local/lib/python3.10/dist-packages (67.7.2)\n",
            "Collecting setuptools\n",
            "  Using cached setuptools-70.0.0-py3-none-any.whl (863 kB)\n",
            "Requirement already satisfied: wheel in /usr/local/lib/python3.10/dist-packages (0.43.0)\n",
            "Installing collected packages: setuptools, pip\n",
            "  Attempting uninstall: setuptools\n",
            "    Found existing installation: setuptools 67.7.2\n",
            "    Uninstalling setuptools-67.7.2:\n",
            "      Successfully uninstalled setuptools-67.7.2\n",
            "  Attempting uninstall: pip\n",
            "    Found existing installation: pip 23.1.2\n",
            "    Uninstalling pip-23.1.2:\n",
            "      Successfully uninstalled pip-23.1.2\n",
            "Successfully installed pip-24.0 setuptools-70.0.0\n"
          ]
        },
        {
          "output_type": "display_data",
          "data": {
            "application/vnd.colab-display-data+json": {
              "pip_warning": {
                "packages": [
                  "_distutils_hack",
                  "pkg_resources",
                  "setuptools"
                ]
              },
              "id": "d5badb99d3174327b2f1c2b264b87bb9"
            }
          },
          "metadata": {}
        }
      ]
    },
    {
      "cell_type": "code",
      "source": [
        "!git clone https://github.com/adrianalbert/satapi.git"
      ],
      "metadata": {
        "id": "L9nuZobfXwhU",
        "colab": {
          "base_uri": "https://localhost:8080/"
        },
        "outputId": "72106a3d-b2a3-434b-d05a-c144393d94da"
      },
      "execution_count": 4,
      "outputs": [
        {
          "output_type": "stream",
          "name": "stdout",
          "text": [
            "Cloning into 'satapi'...\n",
            "remote: Enumerating objects: 265, done.\u001b[K\n",
            "remote: Total 265 (delta 0), reused 0 (delta 0), pack-reused 265\u001b[K\n",
            "Receiving objects: 100% (265/265), 3.74 MiB | 6.68 MiB/s, done.\n",
            "Resolving deltas: 100% (119/119), done.\n"
          ]
        }
      ]
    },
    {
      "cell_type": "code",
      "source": [
        "!ls"
      ],
      "metadata": {
        "colab": {
          "base_uri": "https://localhost:8080/"
        },
        "id": "x18JdmxGsJdg",
        "outputId": "a5fdfc44-27bd-43e6-8f70-297cbb91cc2a"
      },
      "execution_count": 8,
      "outputs": [
        {
          "output_type": "stream",
          "name": "stdout",
          "text": [
            "sample_data  satapi\n"
          ]
        }
      ]
    },
    {
      "cell_type": "code",
      "source": [
        "!cd satapi/"
      ],
      "metadata": {
        "id": "xUZZYGS8sNHX"
      },
      "execution_count": 15,
      "outputs": []
    },
    {
      "cell_type": "code",
      "source": [
        "!cd satapi/\n",
        "!python setup.py install"
      ],
      "metadata": {
        "colab": {
          "base_uri": "https://localhost:8080/"
        },
        "id": "3_D1L6ojrIvb",
        "outputId": "0e452d0b-d142-4709-b596-5533dd7050a3"
      },
      "execution_count": 18,
      "outputs": [
        {
          "output_type": "stream",
          "name": "stdout",
          "text": [
            "running install\n",
            "/usr/local/lib/python3.10/dist-packages/setuptools/_distutils/cmd.py:66: SetuptoolsDeprecationWarning: setup.py install is deprecated.\n",
            "!!\n",
            "\n",
            "        ********************************************************************************\n",
            "        Please avoid running ``setup.py`` directly.\n",
            "        Instead, use pypa/build, pypa/installer or other\n",
            "        standards-based tools.\n",
            "\n",
            "        See https://blog.ganssle.io/articles/2021/10/setup-py-deprecated.html for details.\n",
            "        ********************************************************************************\n",
            "\n",
            "!!\n",
            "  self.initialize_options()\n",
            "/usr/local/lib/python3.10/dist-packages/setuptools/_distutils/cmd.py:66: EasyInstallDeprecationWarning: easy_install command is deprecated.\n",
            "!!\n",
            "\n",
            "        ********************************************************************************\n",
            "        Please avoid running ``setup.py`` and ``easy_install``.\n",
            "        Instead, use pypa/build, pypa/installer or other\n",
            "        standards-based tools.\n",
            "\n",
            "        See https://github.com/pypa/setuptools/issues/917 for details.\n",
            "        ********************************************************************************\n",
            "\n",
            "!!\n",
            "  self.initialize_options()\n",
            "running bdist_egg\n",
            "running egg_info\n",
            "writing pysatapi.egg-info/PKG-INFO\n",
            "writing dependency_links to pysatapi.egg-info/dependency_links.txt\n",
            "writing top-level names to pysatapi.egg-info/top_level.txt\n",
            "reading manifest file 'pysatapi.egg-info/SOURCES.txt'\n",
            "writing manifest file 'pysatapi.egg-info/SOURCES.txt'\n",
            "installing library code to build/bdist.linux-x86_64/egg\n",
            "running install_lib\n",
            "running build_py\n",
            "creating build\n",
            "creating build/lib\n",
            "creating build/lib/pysatapi\n",
            "copying pysatapi/__init__.py -> build/lib/pysatapi\n",
            "creating build/bdist.linux-x86_64\n",
            "creating build/bdist.linux-x86_64/egg\n",
            "creating build/bdist.linux-x86_64/egg/pysatapi\n",
            "copying build/lib/pysatapi/__init__.py -> build/bdist.linux-x86_64/egg/pysatapi\n",
            "byte-compiling build/bdist.linux-x86_64/egg/pysatapi/__init__.py to __init__.cpython-310.pyc\n",
            "creating build/bdist.linux-x86_64/egg/EGG-INFO\n",
            "copying pysatapi.egg-info/PKG-INFO -> build/bdist.linux-x86_64/egg/EGG-INFO\n",
            "copying pysatapi.egg-info/SOURCES.txt -> build/bdist.linux-x86_64/egg/EGG-INFO\n",
            "copying pysatapi.egg-info/dependency_links.txt -> build/bdist.linux-x86_64/egg/EGG-INFO\n",
            "copying pysatapi.egg-info/not-zip-safe -> build/bdist.linux-x86_64/egg/EGG-INFO\n",
            "copying pysatapi.egg-info/top_level.txt -> build/bdist.linux-x86_64/egg/EGG-INFO\n",
            "creating dist\n",
            "creating 'dist/pysatapi-0.1.0-py3.10.egg' and adding 'build/bdist.linux-x86_64/egg' to it\n",
            "removing 'build/bdist.linux-x86_64/egg' (and everything under it)\n",
            "Processing pysatapi-0.1.0-py3.10.egg\n",
            "creating /usr/local/lib/python3.10/dist-packages/pysatapi-0.1.0-py3.10.egg\n",
            "Extracting pysatapi-0.1.0-py3.10.egg to /usr/local/lib/python3.10/dist-packages\n",
            "Adding pysatapi 0.1.0 to easy-install.pth file\n",
            "\n",
            "Installed /usr/local/lib/python3.10/dist-packages/pysatapi-0.1.0-py3.10.egg\n",
            "Processing dependencies for pysatapi==0.1.0\n",
            "Finished processing dependencies for pysatapi==0.1.0\n"
          ]
        }
      ]
    },
    {
      "cell_type": "code",
      "source": [
        "import pysatapi\n",
        "from pysatapi.googlemaps.GoogleMaps import GoogleMaps"
      ],
      "metadata": {
        "id": "KK4bSX4LpnBH"
      },
      "execution_count": 35,
      "outputs": []
    },
    {
      "cell_type": "code",
      "source": [
        "import os\n",
        "from google.colab import userdata\n",
        "\n",
        "\n",
        "googleAPIKey = userdata.get('API_VALUE')\n",
        "\n",
        "if googleAPIKey is None:\n",
        "    raise ValueError(\"API key is not set. Please set it in the secrets tab.\")\n",
        "\n",
        "gmClient = GoogleMaps(key=googleAPIKey)\n",
        "\n",
        "MAX_REQUESTS = 25000\n",
        "MAX_TRIES    = 2\n",
        "img_size     = 224\n",
        "ZOOM         = 17"
      ],
      "metadata": {
        "id": "OkVQjK7rwkvM"
      },
      "execution_count": 36,
      "outputs": []
    },
    {
      "cell_type": "code",
      "source": [
        "cities = [\"madrid\"]"
      ],
      "metadata": {
        "id": "dOjB-N5t4FGE"
      },
      "execution_count": 38,
      "outputs": []
    },
    {
      "cell_type": "code",
      "source": [
        "def download_images(locations, prefix=\"\", out_path=\"./\"):\n",
        "    if not os.path.exists(out_path):\n",
        "        os.makedirs(out_path)\n",
        "\n",
        "    global n_requests\n",
        "\n",
        "    for i,r in locations.iterrows():\n",
        "        clear_output(wait=True)\n",
        "        print(\"Pulling image %d/%d... (# API requests = %d)\"%(i,len(locations), n_requests))\n",
        "        label, lat, lon, grid_i, grid_j = r['class'], r['lat'], r['lon'], r['grid-i'], r['grid-j']\n",
        "\n",
        "        basename = \"%s/%s/%s_z%d_%2.5f_%2.5f\"%(out_path, label, prefix, ZOOM, lat, lon)\n",
        "        if not np.isnan(grid_i) and not np.isnan(grid_j):\n",
        "            cur_filename = \"%s_grid-i%d_grid-j%d.jpg\"%(basename, grid_i, grid_j)\n",
        "        else:\n",
        "            cur_filename = \"%s.jpg\"%basename\n",
        "        print(cur_filename)\n",
        "\n",
        "        if os.path.exists(cur_filename):\n",
        "            continue\n",
        "\n",
        "        req = gmClient.construct_static_url((lat,lon), maptype=\"satellite\", zoom=ZOOM, \\\n",
        "                                            imgsize=(int(img_size*1.18), int(img_size*1.18)))\n",
        "        img = gmClient.get_static_map_image(req, filename=cur_filename, \\\n",
        "                                            max_tries=MAX_TRIES,\\\n",
        "                                            crop=True)\n",
        "\n",
        "        if img is None or n_requests >= MAX_REQUESTS:\n",
        "            print(\"API requests quota exceeded!\")\n",
        "            break\n",
        "        n_requests += 1\n",
        "\n",
        "        # display samples every now and then\n",
        "        if i % 100 == 0:\n",
        "            plt.imshow(img)\n",
        "            plt.title(\"image %d (label = %s)\"%(i,label))\n",
        "            plt.show()\n",
        "            time.sleep(5)"
      ],
      "metadata": {
        "id": "R2vI8AiH4SDN"
      },
      "execution_count": 40,
      "outputs": []
    },
    {
      "cell_type": "code",
      "source": [
        "n_requests = 0"
      ],
      "metadata": {
        "id": "-478WSkJ4jjv"
      },
      "execution_count": 41,
      "outputs": []
    },
    {
      "cell_type": "code",
      "source": [
        "!pip install requests pillow scikit-image"
      ],
      "metadata": {
        "colab": {
          "base_uri": "https://localhost:8080/"
        },
        "id": "ewiLjKpi9Fz3",
        "outputId": "0ba9388a-109f-4122-cc8e-cb77d9d47a77"
      },
      "execution_count": 58,
      "outputs": [
        {
          "output_type": "stream",
          "name": "stdout",
          "text": [
            "Requirement already satisfied: requests in /usr/local/lib/python3.10/dist-packages (2.31.0)\n",
            "Requirement already satisfied: pillow in /usr/local/lib/python3.10/dist-packages (9.4.0)\n",
            "Requirement already satisfied: scikit-image in /usr/local/lib/python3.10/dist-packages (0.19.3)\n",
            "Requirement already satisfied: charset-normalizer<4,>=2 in /usr/local/lib/python3.10/dist-packages (from requests) (3.3.2)\n",
            "Requirement already satisfied: idna<4,>=2.5 in /usr/local/lib/python3.10/dist-packages (from requests) (3.7)\n",
            "Requirement already satisfied: urllib3<3,>=1.21.1 in /usr/local/lib/python3.10/dist-packages (from requests) (2.0.7)\n",
            "Requirement already satisfied: certifi>=2017.4.17 in /usr/local/lib/python3.10/dist-packages (from requests) (2024.2.2)\n",
            "Requirement already satisfied: numpy>=1.17.0 in /usr/local/lib/python3.10/dist-packages (from scikit-image) (1.25.2)\n",
            "Requirement already satisfied: scipy>=1.4.1 in /usr/local/lib/python3.10/dist-packages (from scikit-image) (1.11.4)\n",
            "Requirement already satisfied: networkx>=2.2 in /usr/local/lib/python3.10/dist-packages (from scikit-image) (3.3)\n",
            "Requirement already satisfied: imageio>=2.4.1 in /usr/local/lib/python3.10/dist-packages (from scikit-image) (2.31.6)\n",
            "Requirement already satisfied: tifffile>=2019.7.26 in /usr/local/lib/python3.10/dist-packages (from scikit-image) (2024.5.10)\n",
            "Requirement already satisfied: PyWavelets>=1.1.1 in /usr/local/lib/python3.10/dist-packages (from scikit-image) (1.6.0)\n",
            "Requirement already satisfied: packaging>=20.0 in /usr/local/lib/python3.10/dist-packages (from scikit-image) (24.0)\n",
            "\u001b[33mWARNING: Running pip as the 'root' user can result in broken permissions and conflicting behaviour with the system package manager. It is recommended to use a virtual environment instead: https://pip.pypa.io/warnings/venv\u001b[0m\u001b[33m\n",
            "\u001b[0m"
          ]
        }
      ]
    },
    {
      "cell_type": "code",
      "source": [
        "# path to save data\n",
        "\n",
        "extraction_path = \"/home/data/urban-atlas/imagery/\"\n",
        "if not os.path.exists(extraction_path):\n",
        "    os.makedirs(extraction_path)\n",
        "\n",
        "# download data for a given city\n",
        "\n",
        "city = \"madrid, es\"\n",
        "\n",
        "locations = load_locations(\"%s/%s\" % (outPath, city))\n",
        "\n",
        "download_images(locations, prefix=city.replace(\" \",\"-\"), out_path=\"%s/%s\"%(extraction_path, city))"
      ],
      "metadata": {
        "colab": {
          "base_uri": "https://localhost:8080/",
          "height": 599
        },
        "id": "7ZCBbYf94mZU",
        "outputId": "29355e88-11f0-495e-be6d-8388c05c253e"
      },
      "execution_count": 59,
      "outputs": [
        {
          "output_type": "stream",
          "name": "stdout",
          "text": [
            "Pulling image 0/34788... (# API requests = 0)\n",
            "/home/data/urban-atlas/imagery//madrid, es/Agricultural + Semi-natural areas + Wetlands/madrid,-es_z17_40.45484_-4.01033_grid-i0_grid-j33.jpg\n"
          ]
        },
        {
          "output_type": "error",
          "ename": "AttributeError",
          "evalue": "module 'requests' has no attribute 'fetch'",
          "traceback": [
            "\u001b[0;31m---------------------------------------------------------------------------\u001b[0m",
            "\u001b[0;31mAttributeError\u001b[0m                            Traceback (most recent call last)",
            "\u001b[0;32m<ipython-input-59-c1263cda1805>\u001b[0m in \u001b[0;36m<cell line: 13>\u001b[0;34m()\u001b[0m\n\u001b[1;32m     11\u001b[0m \u001b[0mlocations\u001b[0m \u001b[0;34m=\u001b[0m \u001b[0mload_locations\u001b[0m\u001b[0;34m(\u001b[0m\u001b[0;34m\"%s/%s\"\u001b[0m \u001b[0;34m%\u001b[0m \u001b[0;34m(\u001b[0m\u001b[0moutPath\u001b[0m\u001b[0;34m,\u001b[0m \u001b[0mcity\u001b[0m\u001b[0;34m)\u001b[0m\u001b[0;34m)\u001b[0m\u001b[0;34m\u001b[0m\u001b[0;34m\u001b[0m\u001b[0m\n\u001b[1;32m     12\u001b[0m \u001b[0;34m\u001b[0m\u001b[0m\n\u001b[0;32m---> 13\u001b[0;31m \u001b[0mdownload_images\u001b[0m\u001b[0;34m(\u001b[0m\u001b[0mlocations\u001b[0m\u001b[0;34m,\u001b[0m \u001b[0mprefix\u001b[0m\u001b[0;34m=\u001b[0m\u001b[0mcity\u001b[0m\u001b[0;34m.\u001b[0m\u001b[0mreplace\u001b[0m\u001b[0;34m(\u001b[0m\u001b[0;34m\" \"\u001b[0m\u001b[0;34m,\u001b[0m\u001b[0;34m\"-\"\u001b[0m\u001b[0;34m)\u001b[0m\u001b[0;34m,\u001b[0m \u001b[0mout_path\u001b[0m\u001b[0;34m=\u001b[0m\u001b[0;34m\"%s/%s\"\u001b[0m\u001b[0;34m%\u001b[0m\u001b[0;34m(\u001b[0m\u001b[0mextraction_path\u001b[0m\u001b[0;34m,\u001b[0m \u001b[0mcity\u001b[0m\u001b[0;34m)\u001b[0m\u001b[0;34m)\u001b[0m\u001b[0;34m\u001b[0m\u001b[0;34m\u001b[0m\u001b[0m\n\u001b[0m",
            "\u001b[0;32m<ipython-input-40-4e9f1dc5ab96>\u001b[0m in \u001b[0;36mdownload_images\u001b[0;34m(locations, prefix, out_path)\u001b[0m\n\u001b[1;32m     22\u001b[0m         req = gmClient.construct_static_url((lat,lon), maptype=\"satellite\", zoom=ZOOM, \\\n\u001b[1;32m     23\u001b[0m                                             imgsize=(int(img_size*1.18), int(img_size*1.18)))\n\u001b[0;32m---> 24\u001b[0;31m         img = gmClient.get_static_map_image(req, filename=cur_filename, \\\n\u001b[0m\u001b[1;32m     25\u001b[0m                                             \u001b[0mmax_tries\u001b[0m\u001b[0;34m=\u001b[0m\u001b[0mMAX_TRIES\u001b[0m\u001b[0;34m,\u001b[0m\u001b[0;31m\\\u001b[0m\u001b[0;34m\u001b[0m\u001b[0;34m\u001b[0m\u001b[0m\n\u001b[1;32m     26\u001b[0m                                             crop=True)\n",
            "\u001b[0;32m/content/pysatapi/googlemaps/GoogleMaps.py\u001b[0m in \u001b[0;36mget_static_map_image\u001b[0;34m(self, request, max_tries, filename, crop)\u001b[0m\n\u001b[1;32m     35\u001b[0m         \u001b[0;32mreturn\u001b[0m \u001b[0;32mNone\u001b[0m\u001b[0;34m\u001b[0m\u001b[0;34m\u001b[0m\u001b[0m\n\u001b[1;32m     36\u001b[0m \u001b[0;34m\u001b[0m\u001b[0m\n\u001b[0;32m---> 37\u001b[0;31m def construct_googlemaps_url_request(center=None, zoom=None, imgsize=(500, 500),\n\u001b[0m\u001b[1;32m     38\u001b[0m                                      maptype=\"roadmap\", apiKey=\"\", imgformat=\"jpeg\"):\n\u001b[1;32m     39\u001b[0m     \u001b[0mrequest\u001b[0m \u001b[0;34m=\u001b[0m \u001b[0;34m\"http://maps.google.com/maps/api/staticmap?\"\u001b[0m  \u001b[0;31m# base URL, append query params, separated by &\u001b[0m\u001b[0;34m\u001b[0m\u001b[0;34m\u001b[0m\u001b[0m\n",
            "\u001b[0;32m/content/pysatapi/googlemaps/GoogleMaps.py\u001b[0m in \u001b[0;36mget_static_google_map\u001b[0;34m(request, filename, crop)\u001b[0m\n\u001b[1;32m     61\u001b[0m         \u001b[0mprint\u001b[0m\u001b[0;34m(\u001b[0m\u001b[0;34m\"IOError:\"\u001b[0m\u001b[0;34m)\u001b[0m\u001b[0;34m\u001b[0m\u001b[0;34m\u001b[0m\u001b[0m\n\u001b[1;32m     62\u001b[0m         \u001b[0;32mreturn\u001b[0m \u001b[0;32mNone\u001b[0m\u001b[0;34m\u001b[0m\u001b[0;34m\u001b[0m\u001b[0m\n\u001b[0;32m---> 63\u001b[0;31m     \u001b[0;32melse\u001b[0m\u001b[0;34m:\u001b[0m\u001b[0;34m\u001b[0m\u001b[0;34m\u001b[0m\u001b[0m\n\u001b[0m\u001b[1;32m     64\u001b[0m         \u001b[0mimg\u001b[0m \u001b[0;34m=\u001b[0m \u001b[0mnp\u001b[0m\u001b[0;34m.\u001b[0m\u001b[0masarray\u001b[0m\u001b[0;34m(\u001b[0m\u001b[0mimg\u001b[0m\u001b[0;34m.\u001b[0m\u001b[0mconvert\u001b[0m\u001b[0;34m(\u001b[0m\u001b[0;34m\"RGB\"\u001b[0m\u001b[0;34m)\u001b[0m\u001b[0;34m)\u001b[0m\u001b[0;34m\u001b[0m\u001b[0;34m\u001b[0m\u001b[0m\n\u001b[1;32m     65\u001b[0m \u001b[0;34m\u001b[0m\u001b[0m\n",
            "\u001b[0;31mAttributeError\u001b[0m: module 'requests' has no attribute 'fetch'"
          ]
        }
      ]
    }
  ]
}